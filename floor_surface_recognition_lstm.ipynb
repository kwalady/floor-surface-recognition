{
  "nbformat": 4,
  "nbformat_minor": 0,
  "metadata": {
    "colab": {
      "name": "floor-surface-recognition-lstm.ipynb",
      "version": "0.3.2",
      "provenance": [],
      "collapsed_sections": []
    },
    "kernelspec": {
      "name": "python3",
      "display_name": "Python 3"
    },
    "accelerator": "GPU"
  },
  "cells": [
    {
      "metadata": {
        "id": "lGcki_gvp-4e",
        "colab_type": "code",
        "outputId": "ac93342c-f0a1-4f51-b901-7849f3ec8f9f",
        "colab": {
          "base_uri": "https://localhost:8080/",
          "height": 54
        }
      },
      "cell_type": "code",
      "source": [
        "!pip install -U -q PyDrive\n",
        "from pydrive.auth import GoogleAuth\n",
        "from pydrive.drive import GoogleDrive\n",
        "from google.colab import auth\n",
        "from oauth2client.client import GoogleCredentials\n",
        "\n",
        "auth.authenticate_user()\n",
        "gauth = GoogleAuth()\n",
        "gauth.credentials = GoogleCredentials.get_application_default()\n",
        "drive = GoogleDrive(gauth)"
      ],
      "execution_count": 1,
      "outputs": [
        {
          "output_type": "stream",
          "text": [
            "\u001b[?25l\r\u001b[K    1% |▎                               | 10kB 29.8MB/s eta 0:00:01\r\u001b[K    2% |▋                               | 20kB 2.1MB/s eta 0:00:01\r\u001b[K    3% |█                               | 30kB 3.1MB/s eta 0:00:01\r\u001b[K    4% |█▎                              | 40kB 2.0MB/s eta 0:00:01\r\u001b[K    5% |█▋                              | 51kB 2.5MB/s eta 0:00:01\r\u001b[K    6% |██                              | 61kB 3.0MB/s eta 0:00:01\r\u001b[K    7% |██▎                             | 71kB 3.4MB/s eta 0:00:01\r\u001b[K    8% |██▋                             | 81kB 3.9MB/s eta 0:00:01\r\u001b[K    9% |███                             | 92kB 4.3MB/s eta 0:00:01\r\u001b[K    10% |███▎                            | 102kB 3.3MB/s eta 0:00:01\r\u001b[K    11% |███▋                            | 112kB 3.3MB/s eta 0:00:01\r\u001b[K    12% |████                            | 122kB 4.8MB/s eta 0:00:01\r\u001b[K    13% |████▎                           | 133kB 4.8MB/s eta 0:00:01\r\u001b[K    14% |████▋                           | 143kB 9.0MB/s eta 0:00:01\r\u001b[K    15% |█████                           | 153kB 9.1MB/s eta 0:00:01\r\u001b[K    16% |█████▎                          | 163kB 9.1MB/s eta 0:00:01\r\u001b[K    17% |█████▋                          | 174kB 9.1MB/s eta 0:00:01\r\u001b[K    18% |██████                          | 184kB 9.2MB/s eta 0:00:01\r\u001b[K    19% |██████▎                         | 194kB 9.2MB/s eta 0:00:01\r\u001b[K    20% |██████▋                         | 204kB 9.5MB/s eta 0:00:01\r\u001b[K    21% |███████                         | 215kB 9.5MB/s eta 0:00:01\r\u001b[K    22% |███████▎                        | 225kB 9.5MB/s eta 0:00:01\r\u001b[K    23% |███████▋                        | 235kB 9.7MB/s eta 0:00:01\r\u001b[K    24% |████████                        | 245kB 9.6MB/s eta 0:00:01\r\u001b[K    25% |████████▎                       | 256kB 9.7MB/s eta 0:00:01\r\u001b[K    26% |████████▋                       | 266kB 9.4MB/s eta 0:00:01\r\u001b[K    27% |█████████                       | 276kB 9.6MB/s eta 0:00:01\r\u001b[K    29% |█████████▎                      | 286kB 9.6MB/s eta 0:00:01\r\u001b[K    30% |█████████▋                      | 296kB 9.6MB/s eta 0:00:01\r\u001b[K    31% |██████████                      | 307kB 59.3MB/s eta 0:00:01\r\u001b[K    32% |██████████▎                     | 317kB 63.0MB/s eta 0:00:01\r\u001b[K    33% |██████████▋                     | 327kB 62.5MB/s eta 0:00:01\r\u001b[K    34% |███████████                     | 337kB 62.8MB/s eta 0:00:01\r\u001b[K    35% |███████████▎                    | 348kB 55.9MB/s eta 0:00:01\r\u001b[K    36% |███████████▋                    | 358kB 56.0MB/s eta 0:00:01\r\u001b[K    37% |████████████                    | 368kB 64.7MB/s eta 0:00:01\r\u001b[K    38% |████████████▎                   | 378kB 63.5MB/s eta 0:00:01\r\u001b[K    39% |████████████▋                   | 389kB 63.6MB/s eta 0:00:01\r\u001b[K    40% |█████████████                   | 399kB 11.9MB/s eta 0:00:01\r\u001b[K    41% |█████████████▎                  | 409kB 11.7MB/s eta 0:00:01\r\u001b[K    42% |█████████████▋                  | 419kB 11.7MB/s eta 0:00:01\r\u001b[K    43% |██████████████                  | 430kB 11.6MB/s eta 0:00:01\r\u001b[K    44% |██████████████▎                 | 440kB 11.6MB/s eta 0:00:01\r\u001b[K    45% |██████████████▋                 | 450kB 11.7MB/s eta 0:00:01\r\u001b[K    46% |███████████████                 | 460kB 11.7MB/s eta 0:00:01\r\u001b[K    47% |███████████████▎                | 471kB 11.7MB/s eta 0:00:01\r\u001b[K    48% |███████████████▋                | 481kB 11.8MB/s eta 0:00:01\r\u001b[K    49% |████████████████                | 491kB 11.8MB/s eta 0:00:01\r\u001b[K    50% |████████████████▎               | 501kB 60.4MB/s eta 0:00:01\r\u001b[K    51% |████████████████▋               | 512kB 59.5MB/s eta 0:00:01\r\u001b[K    52% |█████████████████               | 522kB 61.0MB/s eta 0:00:01\r\u001b[K    53% |█████████████████▎              | 532kB 63.7MB/s eta 0:00:01\r\u001b[K    54% |█████████████████▋              | 542kB 64.9MB/s eta 0:00:01\r\u001b[K    55% |██████████████████              | 552kB 72.7MB/s eta 0:00:01\r\u001b[K    57% |██████████████████▎             | 563kB 72.8MB/s eta 0:00:01\r\u001b[K    58% |██████████████████▋             | 573kB 71.5MB/s eta 0:00:01\r\u001b[K    59% |███████████████████             | 583kB 70.5MB/s eta 0:00:01\r\u001b[K    60% |███████████████████▎            | 593kB 69.2MB/s eta 0:00:01\r\u001b[K    61% |███████████████████▋            | 604kB 69.1MB/s eta 0:00:01\r\u001b[K    62% |████████████████████            | 614kB 75.9MB/s eta 0:00:01\r\u001b[K    63% |████████████████████▎           | 624kB 75.0MB/s eta 0:00:01\r\u001b[K    64% |████████████████████▋           | 634kB 74.2MB/s eta 0:00:01\r\u001b[K    65% |█████████████████████           | 645kB 73.7MB/s eta 0:00:01\r\u001b[K    66% |█████████████████████▎          | 655kB 71.8MB/s eta 0:00:01\r\u001b[K    67% |█████████████████████▋          | 665kB 55.2MB/s eta 0:00:01\r\u001b[K    68% |██████████████████████          | 675kB 13.4MB/s eta 0:00:01\r\u001b[K    69% |██████████████████████▎         | 686kB 13.2MB/s eta 0:00:01\r\u001b[K    70% |██████████████████████▋         | 696kB 13.2MB/s eta 0:00:01\r\u001b[K    71% |███████████████████████         | 706kB 13.0MB/s eta 0:00:01\r\u001b[K    72% |███████████████████████▎        | 716kB 13.0MB/s eta 0:00:01\r\u001b[K    73% |███████████████████████▋        | 727kB 12.9MB/s eta 0:00:01\r\u001b[K    74% |████████████████████████        | 737kB 12.7MB/s eta 0:00:01\r\u001b[K    75% |████████████████████████▎       | 747kB 12.4MB/s eta 0:00:01\r\u001b[K    76% |████████████████████████▋       | 757kB 12.3MB/s eta 0:00:01\r\u001b[K    77% |████████████████████████▉       | 768kB 12.9MB/s eta 0:00:01\r\u001b[K    78% |█████████████████████████▏      | 778kB 46.4MB/s eta 0:00:01\r\u001b[K    79% |█████████████████████████▌      | 788kB 46.9MB/s eta 0:00:01\r\u001b[K    80% |█████████████████████████▉      | 798kB 46.6MB/s eta 0:00:01\r\u001b[K    81% |██████████████████████████▏     | 808kB 47.3MB/s eta 0:00:01\r\u001b[K    82% |██████████████████████████▌     | 819kB 46.6MB/s eta 0:00:01\r\u001b[K    83% |██████████████████████████▉     | 829kB 46.9MB/s eta 0:00:01\r\u001b[K    85% |███████████████████████████▏    | 839kB 47.2MB/s eta 0:00:01\r\u001b[K    86% |███████████████████████████▌    | 849kB 49.5MB/s eta 0:00:01\r\u001b[K    87% |███████████████████████████▉    | 860kB 45.6MB/s eta 0:00:01\r\u001b[K    88% |████████████████████████████▏   | 870kB 45.4MB/s eta 0:00:01\r\u001b[K    89% |████████████████████████████▌   | 880kB 46.2MB/s eta 0:00:01\r\u001b[K    90% |████████████████████████████▉   | 890kB 47.3MB/s eta 0:00:01\r\u001b[K    91% |█████████████████████████████▏  | 901kB 13.0MB/s eta 0:00:01\r\u001b[K    92% |█████████████████████████████▌  | 911kB 13.0MB/s eta 0:00:01\r\u001b[K    93% |█████████████████████████████▉  | 921kB 13.1MB/s eta 0:00:01\r\u001b[K    94% |██████████████████████████████▏ | 931kB 13.2MB/s eta 0:00:01\r\u001b[K    95% |██████████████████████████████▌ | 942kB 13.3MB/s eta 0:00:01\r\u001b[K    96% |██████████████████████████████▉ | 952kB 13.4MB/s eta 0:00:01\r\u001b[K    97% |███████████████████████████████▏| 962kB 13.8MB/s eta 0:00:01\r\u001b[K    98% |███████████████████████████████▌| 972kB 14.0MB/s eta 0:00:01\r\u001b[K    99% |███████████████████████████████▉| 983kB 14.0MB/s eta 0:00:01\r\u001b[K    100% |████████████████████████████████| 993kB 10.3MB/s \n",
            "\u001b[?25h  Building wheel for PyDrive (setup.py) ... \u001b[?25ldone\n",
            "\u001b[?25h"
          ],
          "name": "stdout"
        }
      ]
    },
    {
      "metadata": {
        "id": "mf-qgCvXqTul",
        "colab_type": "code",
        "colab": {}
      },
      "cell_type": "code",
      "source": [
        "link = 'https://drive.google.com/open?id=1JTKh8nUQwVUgfPo0GjxcccO75bJOz-WE'\n",
        "fluff, id = link.split('=')\n",
        "downloaded = drive.CreateFile({'id':id}) \n",
        "downloaded.GetContentFile('X_train.csv')\n",
        "\n",
        "link = 'https://drive.google.com/open?id=1dJ8g5zQSkmCAQnagJCpko8lqzKKBGQNS'\n",
        "fluff, id = link.split('=')\n",
        "downloaded = drive.CreateFile({'id':id}) \n",
        "downloaded.GetContentFile('Y_train.csv')"
      ],
      "execution_count": 0,
      "outputs": []
    },
    {
      "metadata": {
        "id": "64C_20FZK9I6",
        "colab_type": "text"
      },
      "cell_type": "markdown",
      "source": [
        "The first step is to load the dataset which consist of the input data, covering 10 sensor channels with 128 measurements per time series plus three ID columns and the target data, consist of two ID columns and one column of class label."
      ]
    },
    {
      "metadata": {
        "id": "HNPAxMn2l8h4",
        "colab_type": "code",
        "colab": {}
      },
      "cell_type": "code",
      "source": [
        "import numpy as np\n",
        "import pandas as pd\n",
        "\n",
        "input_data = pd.read_csv('X_train.csv')\n",
        "target_data = pd.read_csv('Y_train.csv')"
      ],
      "execution_count": 0,
      "outputs": []
    },
    {
      "metadata": {
        "id": "np3CWKySNWyQ",
        "colab_type": "text"
      },
      "cell_type": "markdown",
      "source": [
        "We take only the 10 sensor channel columns from the input data and the class label column from the target data as we did not need the ID columns for training our model."
      ]
    },
    {
      "metadata": {
        "id": "iFPxCyrvMzBA",
        "colab_type": "code",
        "colab": {}
      },
      "cell_type": "code",
      "source": [
        "input_data = input_data.iloc[:,3:13].values\n",
        "target_data = target_data.iloc[:,2].values"
      ],
      "execution_count": 0,
      "outputs": []
    },
    {
      "metadata": {
        "id": "Eb1vkrYwKQU_",
        "colab_type": "text"
      },
      "cell_type": "markdown",
      "source": [
        "The next step is to normalize our data so that every values are in the range of -1 to 1."
      ]
    },
    {
      "metadata": {
        "id": "Qr28MWFKrgNh",
        "colab_type": "code",
        "colab": {}
      },
      "cell_type": "code",
      "source": [
        "from sklearn.preprocessing import MinMaxScaler\n",
        "\n",
        "scaler = MinMaxScaler(feature_range=(-1, 1))\n",
        "input_data = scaler.fit_transform(input_data)"
      ],
      "execution_count": 0,
      "outputs": []
    },
    {
      "metadata": {
        "id": "soJrPgpdS7xr",
        "colab_type": "text"
      },
      "cell_type": "markdown",
      "source": [
        "There are 3810 series in the dataset which consist of 128 time steps and ten features for each series. To fit our input data to the neural network model, we need to reshape it into a three-dimensional array where the dimensions of the array are [number_of_series, time_steps, features]."
      ]
    },
    {
      "metadata": {
        "id": "fYiSZV9yrVma",
        "colab_type": "code",
        "outputId": "d85d5a9e-7cb0-4f97-edfc-06baaf83e035",
        "colab": {
          "base_uri": "https://localhost:8080/",
          "height": 256
        }
      },
      "cell_type": "code",
      "source": [
        "def reshapeTimestep(x):\n",
        "  x_reshaped = []\n",
        "  for i in range(int(len(x) / 128)):\n",
        "    lowerB = i * 128\n",
        "    upperB = lowerB + 128\n",
        "    timesteps = np.array(x[lowerB:upperB])\n",
        "    x_reshaped.append(timesteps)\n",
        "  return np.array(x_reshaped)\n",
        "  \n",
        "input_data = reshapeTimestep(input_data)\n",
        "\n",
        "print (input_data[0])"
      ],
      "execution_count": 6,
      "outputs": [
        {
          "output_type": "stream",
          "text": [
            "[[-7.66889091e-01 -6.40862617e-01 -6.36152446e-01 ... -3.05657115e-02\n",
            "   2.70892246e-01 -7.05215082e-02]\n",
            " [-7.66889091e-01 -6.40852509e-01 -6.36278018e-01 ... -6.87582345e-04\n",
            "   2.64757478e-01 -6.57008320e-02]\n",
            " [-7.66889091e-01 -6.40862617e-01 -6.36403591e-01 ... -1.72730018e-02\n",
            "   2.65639750e-01 -5.59844220e-02]\n",
            " ...\n",
            " [-7.67859670e-01 -6.39589009e-01 -6.34833930e-01 ... -3.69710694e-02\n",
            "   2.59275468e-01 -7.37263232e-02]\n",
            " [-7.67869781e-01 -6.39568793e-01 -6.34645570e-01 ... -2.99437308e-02\n",
            "   2.52859258e-01 -1.02014516e-01]\n",
            " [-7.67900111e-01 -6.39558685e-01 -6.34457211e-01 ... -2.46832455e-02\n",
            "   2.57529229e-01 -8.38874137e-02]]\n"
          ],
          "name": "stdout"
        }
      ]
    },
    {
      "metadata": {
        "id": "FJcfsv9BPIz-",
        "colab_type": "text"
      },
      "cell_type": "markdown",
      "source": [
        "The target data consist of multiple class label which are represented in string. We need to one-hot encode these class labels so that the data suitable for fitting the neural network model."
      ]
    },
    {
      "metadata": {
        "id": "Xqks4UqjPH4j",
        "colab_type": "code",
        "colab": {}
      },
      "cell_type": "code",
      "source": [
        "target_data = pd.get_dummies(target_data).values"
      ],
      "execution_count": 0,
      "outputs": []
    },
    {
      "metadata": {
        "id": "iMX7CCevWDsI",
        "colab_type": "text"
      },
      "cell_type": "markdown",
      "source": [
        "Then we split the input and target data into training dan testing data with a 7 : 3 ratio."
      ]
    },
    {
      "metadata": {
        "id": "bg1X74f5rdSK",
        "colab_type": "code",
        "colab": {}
      },
      "cell_type": "code",
      "source": [
        "input_test = input_data[2667:3810]\n",
        "input_train = input_data[:2667]\n",
        "\n",
        "target_test = target_data[2667:3810]\n",
        "target_train = target_data[:2667]"
      ],
      "execution_count": 0,
      "outputs": []
    },
    {
      "metadata": {
        "id": "fHRaikR1XTmG",
        "colab_type": "text"
      },
      "cell_type": "markdown",
      "source": [
        "Next, we build the neural network model which consist of two LSTM layer with 512 units each, one Dense layer with 256 units, and another Dense layer with 9 units for the output layer as this dataset has 9 different class labels. We add Dropout of 0.5 rate to reduce overfitting. Then we fit the model with the training data."
      ]
    },
    {
      "metadata": {
        "id": "LmUqwm5krveX",
        "colab_type": "code",
        "colab": {
          "base_uri": "https://localhost:8080/",
          "height": 35
        },
        "outputId": "06d5100b-e768-4d2d-c8c0-5fbbe058c36f"
      },
      "cell_type": "code",
      "source": [
        "from keras.models import Sequential\n",
        "from keras.layers import Dense\n",
        "from keras.layers import LSTM\n",
        "from keras.layers import Dropout"
      ],
      "execution_count": 9,
      "outputs": [
        {
          "output_type": "stream",
          "text": [
            "Using TensorFlow backend.\n"
          ],
          "name": "stderr"
        }
      ]
    },
    {
      "metadata": {
        "id": "2wvZRhmPr1FK",
        "colab_type": "code",
        "outputId": "53646f39-3c94-469d-90eb-dfc96774bb86",
        "colab": {
          "base_uri": "https://localhost:8080/",
          "height": 3894
        }
      },
      "cell_type": "code",
      "source": [
        "model = Sequential()\n",
        "model.add(LSTM(units = 512, input_shape = (128, 10), return_sequences=True))\n",
        "model.add(Dropout(0.5))\n",
        "model.add(LSTM(units = 512, input_shape = (128, 10)))\n",
        "model.add(Dropout(0.5))\n",
        "model.add(Dense(units = 256))\n",
        "model.add(Dense(units = 9, activation = 'softmax'))\n",
        "model.compile(optimizer = 'adam', loss = 'categorical_crossentropy', metrics=['accuracy', 'mse'])\n",
        "model.fit(input_train, target_train, epochs = 100, batch_size = 64)"
      ],
      "execution_count": 10,
      "outputs": [
        {
          "output_type": "stream",
          "text": [
            "WARNING:tensorflow:From /usr/local/lib/python3.6/dist-packages/tensorflow/python/framework/op_def_library.py:263: colocate_with (from tensorflow.python.framework.ops) is deprecated and will be removed in a future version.\n",
            "Instructions for updating:\n",
            "Colocations handled automatically by placer.\n",
            "WARNING:tensorflow:From /usr/local/lib/python3.6/dist-packages/keras/backend/tensorflow_backend.py:3445: calling dropout (from tensorflow.python.ops.nn_ops) with keep_prob is deprecated and will be removed in a future version.\n",
            "Instructions for updating:\n",
            "Please use `rate` instead of `keep_prob`. Rate should be set to `rate = 1 - keep_prob`.\n",
            "WARNING:tensorflow:From /usr/local/lib/python3.6/dist-packages/tensorflow/python/ops/math_ops.py:3066: to_int32 (from tensorflow.python.ops.math_ops) is deprecated and will be removed in a future version.\n",
            "Instructions for updating:\n",
            "Use tf.cast instead.\n",
            "Epoch 1/100\n",
            "2667/2667 [==============================] - 18s 7ms/step - loss: 1.9555 - acc: 0.2985 - mean_squared_error: 0.0922\n",
            "Epoch 2/100\n",
            "2667/2667 [==============================] - 14s 5ms/step - loss: 1.9151 - acc: 0.3097 - mean_squared_error: 0.0913\n",
            "Epoch 3/100\n",
            "2667/2667 [==============================] - 14s 5ms/step - loss: 1.8317 - acc: 0.3191 - mean_squared_error: 0.0888\n",
            "Epoch 4/100\n",
            "2667/2667 [==============================] - 15s 6ms/step - loss: 1.7824 - acc: 0.3420 - mean_squared_error: 0.0873\n",
            "Epoch 5/100\n",
            "2667/2667 [==============================] - 14s 5ms/step - loss: 1.7456 - acc: 0.3547 - mean_squared_error: 0.0859\n",
            "Epoch 6/100\n",
            "2667/2667 [==============================] - 14s 5ms/step - loss: 1.7604 - acc: 0.3495 - mean_squared_error: 0.0864\n",
            "Epoch 7/100\n",
            "2667/2667 [==============================] - 14s 5ms/step - loss: 1.6614 - acc: 0.3892 - mean_squared_error: 0.0826\n",
            "Epoch 8/100\n",
            "2667/2667 [==============================] - 15s 6ms/step - loss: 1.6343 - acc: 0.3963 - mean_squared_error: 0.0823\n",
            "Epoch 9/100\n",
            "2667/2667 [==============================] - 15s 5ms/step - loss: 1.5454 - acc: 0.4398 - mean_squared_error: 0.0786\n",
            "Epoch 10/100\n",
            "2667/2667 [==============================] - 15s 6ms/step - loss: 1.7102 - acc: 0.3716 - mean_squared_error: 0.0840\n",
            "Epoch 11/100\n",
            "2667/2667 [==============================] - 14s 5ms/step - loss: 1.6721 - acc: 0.3753 - mean_squared_error: 0.0835\n",
            "Epoch 12/100\n",
            "2667/2667 [==============================] - 14s 5ms/step - loss: 1.6532 - acc: 0.3885 - mean_squared_error: 0.0830\n",
            "Epoch 13/100\n",
            "2667/2667 [==============================] - 14s 5ms/step - loss: 1.6832 - acc: 0.3918 - mean_squared_error: 0.0826\n",
            "Epoch 14/100\n",
            "2667/2667 [==============================] - 14s 5ms/step - loss: 1.6336 - acc: 0.4023 - mean_squared_error: 0.0810\n",
            "Epoch 15/100\n",
            "2667/2667 [==============================] - 15s 6ms/step - loss: 1.5548 - acc: 0.4109 - mean_squared_error: 0.0792\n",
            "Epoch 16/100\n",
            "2667/2667 [==============================] - 15s 6ms/step - loss: 1.4799 - acc: 0.4586 - mean_squared_error: 0.0761\n",
            "Epoch 17/100\n",
            "2667/2667 [==============================] - 15s 6ms/step - loss: 1.5601 - acc: 0.4376 - mean_squared_error: 0.0787\n",
            "Epoch 18/100\n",
            "2667/2667 [==============================] - 14s 5ms/step - loss: 1.5632 - acc: 0.4319 - mean_squared_error: 0.0788\n",
            "Epoch 19/100\n",
            "2667/2667 [==============================] - 14s 5ms/step - loss: 1.5186 - acc: 0.4428 - mean_squared_error: 0.0772\n",
            "Epoch 20/100\n",
            "2667/2667 [==============================] - 15s 5ms/step - loss: 1.5397 - acc: 0.4128 - mean_squared_error: 0.0786\n",
            "Epoch 21/100\n",
            "2667/2667 [==============================] - 15s 6ms/step - loss: 1.3618 - acc: 0.5013 - mean_squared_error: 0.0720\n",
            "Epoch 22/100\n",
            "2667/2667 [==============================] - 14s 5ms/step - loss: 1.4318 - acc: 0.4807 - mean_squared_error: 0.0735\n",
            "Epoch 23/100\n",
            "2667/2667 [==============================] - 14s 5ms/step - loss: 1.5133 - acc: 0.4413 - mean_squared_error: 0.0771\n",
            "Epoch 24/100\n",
            "2667/2667 [==============================] - 14s 5ms/step - loss: 1.4134 - acc: 0.4724 - mean_squared_error: 0.0735\n",
            "Epoch 25/100\n",
            "2667/2667 [==============================] - 14s 5ms/step - loss: 1.2739 - acc: 0.5253 - mean_squared_error: 0.0683\n",
            "Epoch 26/100\n",
            "2667/2667 [==============================] - 15s 6ms/step - loss: 1.2945 - acc: 0.5272 - mean_squared_error: 0.0692\n",
            "Epoch 27/100\n",
            "2667/2667 [==============================] - 14s 5ms/step - loss: 1.2779 - acc: 0.5167 - mean_squared_error: 0.0689\n",
            "Epoch 28/100\n",
            "2667/2667 [==============================] - 15s 6ms/step - loss: 1.1816 - acc: 0.5568 - mean_squared_error: 0.0639\n",
            "Epoch 29/100\n",
            "2667/2667 [==============================] - 15s 5ms/step - loss: 1.4385 - acc: 0.4672 - mean_squared_error: 0.0752\n",
            "Epoch 30/100\n",
            "2667/2667 [==============================] - 14s 5ms/step - loss: 1.7577 - acc: 0.3675 - mean_squared_error: 0.0842\n",
            "Epoch 31/100\n",
            "2667/2667 [==============================] - 14s 5ms/step - loss: 1.8000 - acc: 0.3356 - mean_squared_error: 0.0868\n",
            "Epoch 32/100\n",
            "2667/2667 [==============================] - 15s 6ms/step - loss: 1.7571 - acc: 0.3630 - mean_squared_error: 0.0858\n",
            "Epoch 33/100\n",
            "2667/2667 [==============================] - 14s 5ms/step - loss: 1.6719 - acc: 0.3963 - mean_squared_error: 0.0826\n",
            "Epoch 34/100\n",
            "2667/2667 [==============================] - 14s 5ms/step - loss: 1.6193 - acc: 0.4102 - mean_squared_error: 0.0805\n",
            "Epoch 35/100\n",
            "2667/2667 [==============================] - 14s 5ms/step - loss: 1.7729 - acc: 0.3585 - mean_squared_error: 0.0864\n",
            "Epoch 36/100\n",
            "2667/2667 [==============================] - 14s 5ms/step - loss: 1.8067 - acc: 0.3487 - mean_squared_error: 0.0876\n",
            "Epoch 37/100\n",
            "2667/2667 [==============================] - 15s 6ms/step - loss: 1.7657 - acc: 0.3442 - mean_squared_error: 0.0871\n",
            "Epoch 38/100\n",
            "2667/2667 [==============================] - 16s 6ms/step - loss: 1.7134 - acc: 0.3652 - mean_squared_error: 0.0849\n",
            "Epoch 39/100\n",
            "2667/2667 [==============================] - 14s 5ms/step - loss: 1.9516 - acc: 0.2880 - mean_squared_error: 0.0916\n",
            "Epoch 40/100\n",
            "2667/2667 [==============================] - 14s 5ms/step - loss: 1.9668 - acc: 0.2677 - mean_squared_error: 0.0930\n",
            "Epoch 41/100\n",
            "2667/2667 [==============================] - 14s 5ms/step - loss: 1.8564 - acc: 0.2970 - mean_squared_error: 0.0894\n",
            "Epoch 42/100\n",
            "2667/2667 [==============================] - 14s 5ms/step - loss: 1.7338 - acc: 0.3663 - mean_squared_error: 0.0850\n",
            "Epoch 43/100\n",
            "2667/2667 [==============================] - 15s 6ms/step - loss: 1.8198 - acc: 0.3367 - mean_squared_error: 0.0882\n",
            "Epoch 44/100\n",
            "2667/2667 [==============================] - 14s 5ms/step - loss: 1.6885 - acc: 0.3877 - mean_squared_error: 0.0836\n",
            "Epoch 45/100\n",
            "2667/2667 [==============================] - 14s 5ms/step - loss: 1.6280 - acc: 0.4106 - mean_squared_error: 0.0815\n",
            "Epoch 46/100\n",
            "2667/2667 [==============================] - 14s 5ms/step - loss: 1.5768 - acc: 0.4218 - mean_squared_error: 0.0797\n",
            "Epoch 47/100\n",
            "2667/2667 [==============================] - 14s 5ms/step - loss: 1.5132 - acc: 0.4559 - mean_squared_error: 0.0767\n",
            "Epoch 48/100\n",
            "2667/2667 [==============================] - 15s 6ms/step - loss: 1.4875 - acc: 0.4608 - mean_squared_error: 0.0760\n",
            "Epoch 49/100\n",
            "2667/2667 [==============================] - 15s 6ms/step - loss: 1.4254 - acc: 0.4769 - mean_squared_error: 0.0739\n",
            "Epoch 50/100\n",
            "2667/2667 [==============================] - 15s 5ms/step - loss: 1.4143 - acc: 0.4747 - mean_squared_error: 0.0734\n",
            "Epoch 51/100\n",
            "2667/2667 [==============================] - 14s 5ms/step - loss: 1.4015 - acc: 0.4867 - mean_squared_error: 0.0722\n",
            "Epoch 52/100\n",
            "2667/2667 [==============================] - 14s 5ms/step - loss: 1.3963 - acc: 0.4766 - mean_squared_error: 0.0734\n",
            "Epoch 53/100\n",
            "2667/2667 [==============================] - 14s 5ms/step - loss: 1.3343 - acc: 0.5009 - mean_squared_error: 0.0704\n",
            "Epoch 54/100\n",
            "2667/2667 [==============================] - 15s 6ms/step - loss: 1.2373 - acc: 0.5433 - mean_squared_error: 0.0661\n",
            "Epoch 55/100\n",
            "2667/2667 [==============================] - 14s 5ms/step - loss: 1.2821 - acc: 0.5249 - mean_squared_error: 0.0684\n",
            "Epoch 56/100\n",
            "2667/2667 [==============================] - 14s 5ms/step - loss: 1.2143 - acc: 0.5369 - mean_squared_error: 0.0663\n",
            "Epoch 57/100\n",
            "2667/2667 [==============================] - 14s 5ms/step - loss: 1.1867 - acc: 0.5542 - mean_squared_error: 0.0642\n",
            "Epoch 58/100\n",
            "2667/2667 [==============================] - 14s 5ms/step - loss: 1.1824 - acc: 0.5512 - mean_squared_error: 0.0643\n",
            "Epoch 59/100\n",
            "2667/2667 [==============================] - 16s 6ms/step - loss: 1.1808 - acc: 0.5561 - mean_squared_error: 0.0640\n",
            "Epoch 60/100\n",
            "2667/2667 [==============================] - 15s 5ms/step - loss: 1.0848 - acc: 0.5827 - mean_squared_error: 0.0596\n",
            "Epoch 61/100\n",
            "2667/2667 [==============================] - 14s 5ms/step - loss: 1.1414 - acc: 0.5602 - mean_squared_error: 0.0629\n",
            "Epoch 62/100\n",
            "2667/2667 [==============================] - 14s 5ms/step - loss: 1.1265 - acc: 0.5774 - mean_squared_error: 0.0615\n",
            "Epoch 63/100\n",
            "2667/2667 [==============================] - 14s 5ms/step - loss: 1.0899 - acc: 0.5804 - mean_squared_error: 0.0601\n",
            "Epoch 64/100\n",
            "2667/2667 [==============================] - 14s 5ms/step - loss: 1.0609 - acc: 0.5909 - mean_squared_error: 0.0588\n",
            "Epoch 65/100\n",
            "2667/2667 [==============================] - 15s 6ms/step - loss: 1.0959 - acc: 0.5846 - mean_squared_error: 0.0605\n",
            "Epoch 66/100\n",
            "2667/2667 [==============================] - 14s 5ms/step - loss: 1.0321 - acc: 0.6037 - mean_squared_error: 0.0573\n",
            "Epoch 67/100\n",
            "2667/2667 [==============================] - 14s 5ms/step - loss: 1.1395 - acc: 0.5703 - mean_squared_error: 0.0622\n",
            "Epoch 68/100\n",
            "2667/2667 [==============================] - 14s 5ms/step - loss: 1.0668 - acc: 0.5962 - mean_squared_error: 0.0592\n",
            "Epoch 69/100\n",
            "2667/2667 [==============================] - 14s 5ms/step - loss: 1.0227 - acc: 0.6130 - mean_squared_error: 0.0573\n",
            "Epoch 70/100\n",
            "2667/2667 [==============================] - 15s 6ms/step - loss: 0.9899 - acc: 0.6232 - mean_squared_error: 0.0555\n",
            "Epoch 71/100\n",
            "2667/2667 [==============================] - 15s 6ms/step - loss: 1.0152 - acc: 0.6074 - mean_squared_error: 0.0573\n",
            "Epoch 72/100\n",
            "2667/2667 [==============================] - 14s 5ms/step - loss: 1.1084 - acc: 0.5827 - mean_squared_error: 0.0614\n",
            "Epoch 73/100\n",
            "2667/2667 [==============================] - 14s 5ms/step - loss: 1.0721 - acc: 0.5838 - mean_squared_error: 0.0594\n",
            "Epoch 74/100\n",
            "2667/2667 [==============================] - 14s 5ms/step - loss: 0.9512 - acc: 0.6273 - mean_squared_error: 0.0541\n",
            "Epoch 75/100\n",
            "2667/2667 [==============================] - 14s 5ms/step - loss: 0.9849 - acc: 0.6157 - mean_squared_error: 0.0563\n",
            "Epoch 76/100\n",
            "2667/2667 [==============================] - 15s 6ms/step - loss: 1.0858 - acc: 0.5928 - mean_squared_error: 0.0602\n",
            "Epoch 77/100\n",
            "2667/2667 [==============================] - 14s 5ms/step - loss: 0.9686 - acc: 0.6134 - mean_squared_error: 0.0548\n",
            "Epoch 78/100\n",
            "2667/2667 [==============================] - 14s 5ms/step - loss: 0.9130 - acc: 0.6340 - mean_squared_error: 0.0525\n",
            "Epoch 79/100\n",
            "2667/2667 [==============================] - 14s 5ms/step - loss: 0.9413 - acc: 0.6220 - mean_squared_error: 0.0538\n",
            "Epoch 80/100\n",
            "2667/2667 [==============================] - 15s 6ms/step - loss: 0.9398 - acc: 0.6367 - mean_squared_error: 0.0530\n",
            "Epoch 81/100\n",
            "2667/2667 [==============================] - 16s 6ms/step - loss: 0.9151 - acc: 0.6397 - mean_squared_error: 0.0526\n",
            "Epoch 82/100\n",
            "2667/2667 [==============================] - 15s 6ms/step - loss: 0.8982 - acc: 0.6517 - mean_squared_error: 0.0506\n",
            "Epoch 83/100\n",
            "2667/2667 [==============================] - 14s 5ms/step - loss: 0.9037 - acc: 0.6464 - mean_squared_error: 0.0516\n",
            "Epoch 84/100\n",
            "2667/2667 [==============================] - 14s 5ms/step - loss: 0.8930 - acc: 0.6614 - mean_squared_error: 0.0509\n",
            "Epoch 85/100\n",
            "2667/2667 [==============================] - 14s 5ms/step - loss: 0.8987 - acc: 0.6434 - mean_squared_error: 0.0517\n",
            "Epoch 86/100\n",
            "2667/2667 [==============================] - 14s 5ms/step - loss: 0.8497 - acc: 0.6697 - mean_squared_error: 0.0487\n",
            "Epoch 87/100\n",
            "2667/2667 [==============================] - 16s 6ms/step - loss: 0.8272 - acc: 0.6753 - mean_squared_error: 0.0478\n",
            "Epoch 88/100\n",
            "2667/2667 [==============================] - 14s 5ms/step - loss: 0.8765 - acc: 0.6674 - mean_squared_error: 0.0500\n",
            "Epoch 89/100\n",
            "2667/2667 [==============================] - 14s 5ms/step - loss: 0.7966 - acc: 0.6850 - mean_squared_error: 0.0463\n",
            "Epoch 90/100\n",
            "2667/2667 [==============================] - 14s 5ms/step - loss: 0.8281 - acc: 0.6794 - mean_squared_error: 0.0479\n",
            "Epoch 91/100\n",
            "2667/2667 [==============================] - 14s 5ms/step - loss: 0.7753 - acc: 0.7087 - mean_squared_error: 0.0445\n",
            "Epoch 92/100\n",
            "2667/2667 [==============================] - 15s 6ms/step - loss: 0.8268 - acc: 0.6880 - mean_squared_error: 0.0477\n",
            "Epoch 93/100\n",
            "2667/2667 [==============================] - 15s 6ms/step - loss: 0.7930 - acc: 0.6892 - mean_squared_error: 0.0463\n",
            "Epoch 94/100\n",
            "2667/2667 [==============================] - 14s 5ms/step - loss: 0.9070 - acc: 0.6584 - mean_squared_error: 0.0517\n",
            "Epoch 95/100\n",
            "2667/2667 [==============================] - 14s 5ms/step - loss: 1.0844 - acc: 0.5947 - mean_squared_error: 0.0587\n",
            "Epoch 96/100\n",
            "2667/2667 [==============================] - 14s 5ms/step - loss: 0.9065 - acc: 0.6577 - mean_squared_error: 0.0515\n",
            "Epoch 97/100\n",
            "2667/2667 [==============================] - 14s 5ms/step - loss: 0.8133 - acc: 0.6847 - mean_squared_error: 0.0465\n",
            "Epoch 98/100\n",
            "2667/2667 [==============================] - 15s 6ms/step - loss: 0.7799 - acc: 0.6929 - mean_squared_error: 0.0453\n",
            "Epoch 99/100\n",
            "2667/2667 [==============================] - 14s 5ms/step - loss: 0.8544 - acc: 0.6730 - mean_squared_error: 0.0486\n",
            "Epoch 100/100\n",
            "2667/2667 [==============================] - 14s 5ms/step - loss: 0.8114 - acc: 0.6820 - mean_squared_error: 0.0468\n"
          ],
          "name": "stdout"
        },
        {
          "output_type": "execute_result",
          "data": {
            "text/plain": [
              "<keras.callbacks.History at 0x7fe8c4278748>"
            ]
          },
          "metadata": {
            "tags": []
          },
          "execution_count": 10
        }
      ]
    },
    {
      "metadata": {
        "id": "R-iE7ZR0oR_9",
        "colab_type": "text"
      },
      "cell_type": "markdown",
      "source": [
        "Finally, we evaluate the model on the test data based on its accuracy and RMSE."
      ]
    },
    {
      "metadata": {
        "id": "6TngNPXZwxCV",
        "colab_type": "code",
        "outputId": "c143a515-4842-48c9-aedc-cac6d4a1771f",
        "colab": {
          "base_uri": "https://localhost:8080/",
          "height": 72
        }
      },
      "cell_type": "code",
      "source": [
        "evaluate = model.evaluate(input_test, target_test, batch_size = 64)\n",
        "\n",
        "print('{} : {}'.format('accuracy', evaluate[1]))\n",
        "print('{} : {}'.format('root-mean-squared-error', evaluate[2]))"
      ],
      "execution_count": 14,
      "outputs": [
        {
          "output_type": "stream",
          "text": [
            "1143/1143 [==============================] - 2s 2ms/step\n",
            "accuracy : 0.6080489925199294\n",
            "root-mean-squared-error : 0.058164952999129174\n"
          ],
          "name": "stdout"
        }
      ]
    }
  ]
}